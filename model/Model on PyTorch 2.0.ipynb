{
 "cells": [
  {
   "cell_type": "code",
   "execution_count": 73,
   "metadata": {},
   "outputs": [],
   "source": [
    "# torch >= 2.0\n",
    "# torchvision >= 0.15.1\n",
    "\n",
    "import torch\n",
    "from torch import nn\n",
    "from torch.utils.data import DataLoader\n",
    "from torchvision import transforms\n",
    "from torchvision.datasets import ImageFolder"
   ]
  },
  {
   "attachments": {},
   "cell_type": "markdown",
   "metadata": {},
   "source": [
    "### Подготовка данных"
   ]
  },
  {
   "cell_type": "code",
   "execution_count": 74,
   "metadata": {},
   "outputs": [],
   "source": [
    "batch_size = 64\n",
    "\n",
    "train_dir = 'fer-2013/train'\n",
    "test_dir = 'fer-2013/test'\n",
    "\n",
    "# Трансформация входных изображений: преобразование в тензор и в оттенки серого\n",
    "transform = transforms.Compose([\n",
    "    transforms.ToTensor(),\n",
    "    transforms.Grayscale(1)\n",
    "])\n",
    "\n",
    "# Переводим папку с изображениями в DataLoader\n",
    "train = ImageFolder(train_dir, transform=transform)\n",
    "test = ImageFolder(test_dir, transform=transform)\n",
    "\n",
    "train_loader = DataLoader(train, batch_size=batch_size, shuffle=True)\n",
    "test_loader = DataLoader(test, batch_size=batch_size, shuffle=True)\n",
    "\n",
    "# Подключаем устройство. На cuda во много-много раз быстрее\n",
    "device = torch.device('cuda' if torch.cuda.is_available() else 'cpu')"
   ]
  },
  {
   "cell_type": "code",
   "execution_count": 75,
   "metadata": {},
   "outputs": [
    {
     "name": "stdout",
     "output_type": "stream",
     "text": [
      "Number of training examples: 28709\n",
      "Number of test examples: 7178\n",
      "Batch size: 64\n",
      "Number of training batches: 449\n",
      "Number of test batches: 113\n",
      "Shape of training images: torch.Size([64, 1, 48, 48])\n",
      "Shape of training labels: torch.Size([64])\n",
      "Minimum pixel value: tensor(0.)\n",
      "Maximum pixel value: tensor(0.9999)\n",
      "Using device: cuda\n"
     ]
    }
   ],
   "source": [
    "# Информация о данных\n",
    "# Print some basic information about the train and test datasets\n",
    "print('Number of training examples: {}'.format(len(train)))\n",
    "print('Number of test examples: {}'.format(len(test)))\n",
    "print('Batch size: {}'.format(batch_size))\n",
    "\n",
    "# Print some basic information about the train and test loaders\n",
    "print('Number of training batches: {}'.format(len(train_loader)))\n",
    "print('Number of test batches: {}'.format(len(test_loader)))\n",
    "\n",
    "# Check the shape of the training images\n",
    "images, labels = next(iter(train_loader))\n",
    "print(\"Shape of training images:\", images.shape)\n",
    "print(\"Shape of training labels:\", labels.shape)\n",
    "\n",
    "# Check the range of the pixel values in the training images\n",
    "print(\"Minimum pixel value:\", torch.min(images))\n",
    "print(\"Maximum pixel value:\", torch.max(images))\n",
    "\n",
    "print('Using device:', device)"
   ]
  },
  {
   "attachments": {},
   "cell_type": "markdown",
   "metadata": {},
   "source": [
    "### Модель\n",
    "из примера на [Kaggle](https://www.kaggle.com/code/anushkakalwale/fer2013-cnn-lstm) только без последних слоев с LSTM"
   ]
  },
  {
   "cell_type": "code",
   "execution_count": 76,
   "metadata": {},
   "outputs": [],
   "source": [
    "model = nn.Sequential(\n",
    "    # 48x48, 1\n",
    "    nn.Conv2d(1, 32, 3, padding='valid'),\n",
    "    nn.BatchNorm2d(32),\n",
    "    nn.ReLU(),\n",
    "    # 46x46, 32\n",
    "    \n",
    "    nn.Conv2d(32, 64, 3, padding='same'),\n",
    "    nn.BatchNorm2d(64),\n",
    "    nn.ReLU(),\n",
    "    nn.MaxPool2d(2),\n",
    "    # 23x23, 64\n",
    "\n",
    "    nn.Conv2d(64, 64, 3, padding='valid'),\n",
    "    nn.BatchNorm2d(64),\n",
    "    nn.ReLU(),\n",
    "    # 21x21, 64\n",
    "\n",
    "    nn.Conv2d(64, 128, 3, padding='same'),\n",
    "    nn.BatchNorm2d(128),\n",
    "    nn.ReLU(),\n",
    "    nn.MaxPool2d(2),\n",
    "    # 10x10, 128\n",
    "\n",
    "    nn.Conv2d(128, 128, 3, padding='valid'),\n",
    "    nn.BatchNorm2d(128),\n",
    "    nn.ReLU(),\n",
    "    nn.MaxPool2d(2),\n",
    "    # 4x4, 128\n",
    "\n",
    "    nn.Flatten(),\n",
    "    # nn.LSTM(128 * 4 * 4, 128),\n",
    "    # nn.Flatten(),\n",
    "    # nn.LSTM(128, 64),\n",
    "\n",
    "    nn.Linear(128 * 4 * 4, 200),\n",
    "    nn.ReLU(),\n",
    "    nn.Dropout(0.6),\n",
    "    nn.Linear(200, 7),\n",
    "    nn.Softmax(1)\n",
    ")"
   ]
  },
  {
   "attachments": {},
   "cell_type": "markdown",
   "metadata": {},
   "source": [
    "### Тренировка"
   ]
  },
  {
   "cell_type": "code",
   "execution_count": 77,
   "metadata": {},
   "outputs": [
    {
     "data": {
      "text/plain": [
       "Sequential(\n",
       "  (0): Conv2d(1, 32, kernel_size=(3, 3), stride=(1, 1), padding=valid)\n",
       "  (1): BatchNorm2d(32, eps=1e-05, momentum=0.1, affine=True, track_running_stats=True)\n",
       "  (2): ReLU()\n",
       "  (3): Conv2d(32, 64, kernel_size=(3, 3), stride=(1, 1), padding=same)\n",
       "  (4): BatchNorm2d(64, eps=1e-05, momentum=0.1, affine=True, track_running_stats=True)\n",
       "  (5): ReLU()\n",
       "  (6): MaxPool2d(kernel_size=2, stride=2, padding=0, dilation=1, ceil_mode=False)\n",
       "  (7): Conv2d(64, 64, kernel_size=(3, 3), stride=(1, 1), padding=valid)\n",
       "  (8): BatchNorm2d(64, eps=1e-05, momentum=0.1, affine=True, track_running_stats=True)\n",
       "  (9): ReLU()\n",
       "  (10): Conv2d(64, 128, kernel_size=(3, 3), stride=(1, 1), padding=same)\n",
       "  (11): BatchNorm2d(128, eps=1e-05, momentum=0.1, affine=True, track_running_stats=True)\n",
       "  (12): ReLU()\n",
       "  (13): MaxPool2d(kernel_size=2, stride=2, padding=0, dilation=1, ceil_mode=False)\n",
       "  (14): Conv2d(128, 128, kernel_size=(3, 3), stride=(1, 1), padding=valid)\n",
       "  (15): BatchNorm2d(128, eps=1e-05, momentum=0.1, affine=True, track_running_stats=True)\n",
       "  (16): ReLU()\n",
       "  (17): MaxPool2d(kernel_size=2, stride=2, padding=0, dilation=1, ceil_mode=False)\n",
       "  (18): Flatten(start_dim=1, end_dim=-1)\n",
       "  (19): Linear(in_features=2048, out_features=200, bias=True)\n",
       "  (20): ReLU()\n",
       "  (21): Dropout(p=0.6, inplace=False)\n",
       "  (22): Linear(in_features=200, out_features=7, bias=True)\n",
       "  (23): Softmax(dim=1)\n",
       ")"
      ]
     },
     "execution_count": 77,
     "metadata": {},
     "output_type": "execute_result"
    }
   ],
   "source": [
    "num_epochs = 3\n",
    "learning_rate = 0.001\n",
    "\n",
    "criterion = nn.CrossEntropyLoss()\n",
    "optimizer = torch.optim.Adam(model.parameters(), lr=learning_rate)\n",
    "\n",
    "# Используем cuda, если есть\n",
    "model.to(device)"
   ]
  },
  {
   "cell_type": "code",
   "execution_count": 78,
   "metadata": {},
   "outputs": [
    {
     "name": "stdout",
     "output_type": "stream",
     "text": [
      "Epoch [1/3], Step [100/449], Loss: 1.7947, Accuracy: 34.38%\n",
      "Epoch [1/3], Step [200/449], Loss: 1.8698, Accuracy: 25.00%\n",
      "Epoch [1/3], Step [300/449], Loss: 1.7719, Accuracy: 37.50%\n",
      "Epoch [1/3], Step [400/449], Loss: 1.7690, Accuracy: 37.50%\n",
      "Epoch [2/3], Step [100/449], Loss: 1.5891, Accuracy: 57.81%\n",
      "Epoch [2/3], Step [200/449], Loss: 1.7197, Accuracy: 43.75%\n",
      "Epoch [2/3], Step [300/449], Loss: 1.7053, Accuracy: 45.31%\n",
      "Epoch [2/3], Step [400/449], Loss: 1.6861, Accuracy: 45.31%\n",
      "Epoch [3/3], Step [100/449], Loss: 1.7270, Accuracy: 42.19%\n",
      "Epoch [3/3], Step [200/449], Loss: 1.6546, Accuracy: 50.00%\n",
      "Epoch [3/3], Step [300/449], Loss: 1.7015, Accuracy: 45.31%\n",
      "Epoch [3/3], Step [400/449], Loss: 1.7083, Accuracy: 43.75%\n"
     ]
    }
   ],
   "source": [
    "total_step = len(train_loader)\n",
    "loss_list = []\n",
    "acc_list = []\n",
    "\n",
    "for epoch in range(num_epochs):\n",
    "    for i, (images, labels) in enumerate(train_loader):\n",
    "        # Очищаем градиенты\n",
    "        optimizer.zero_grad()\n",
    "        \n",
    "        if (device.type == 'cuda'):\n",
    "            images = images.cuda()\n",
    "            labels = labels.cuda()\n",
    "\n",
    "        # Прямой запуск\n",
    "        outputs = model(images)\n",
    "        loss = criterion(outputs, labels)\n",
    "        loss_list.append(loss.item())\n",
    "\n",
    "        # Обратное распространение и оптимизатор\n",
    "        loss.backward()\n",
    "        optimizer.step()\n",
    "\n",
    "        # Отслеживание точности\n",
    "        total = labels.size(0)\n",
    "        _, predicted = torch.max(outputs.data, 1)\n",
    "        correct = (predicted == labels).sum().item()\n",
    "        acc_list.append(correct / total)\n",
    "\n",
    "        if (i + 1) % 100 == 0:\n",
    "            print('Epoch [{}/{}], Step [{}/{}], Loss: {:.4f}, Accuracy: {:.2f}%'\n",
    "                  .format(epoch + 1, num_epochs, i + 1, total_step, loss.item(),\n",
    "                          (correct / total) * 100))"
   ]
  },
  {
   "attachments": {},
   "cell_type": "markdown",
   "metadata": {},
   "source": [
    "### Проверка модели"
   ]
  },
  {
   "cell_type": "code",
   "execution_count": 79,
   "metadata": {},
   "outputs": [
    {
     "name": "stdout",
     "output_type": "stream",
     "text": [
      "Test Accuracy of the model on the 10000 test images: 48.27249930342714 %\n"
     ]
    }
   ],
   "source": [
    "model.eval()\n",
    "with torch.no_grad():\n",
    "    correct = 0\n",
    "    total = 0\n",
    "    for images, labels in test_loader:\n",
    "        if (device.type == 'cuda'):\n",
    "            images = images.cuda()\n",
    "            labels = labels.cuda()\n",
    "\n",
    "        outputs = model(images)\n",
    "        _, predicted = torch.max(outputs.data, 1)\n",
    "        total += labels.size(0)\n",
    "        correct += (predicted == labels).sum().item()\n",
    "\n",
    "    print('Test Accuracy of the model on the 10000 test images: {} %'.format((correct / total) * 100))"
   ]
  },
  {
   "attachments": {},
   "cell_type": "markdown",
   "metadata": {},
   "source": [
    "### Сохраняем модель"
   ]
  },
  {
   "cell_type": "code",
   "execution_count": 80,
   "metadata": {},
   "outputs": [],
   "source": [
    "# Сохраняем только веса модели\n",
    "torch.save(model.state_dict(), 'fer-2013/cnn_model_dict.pt')\n",
    "\n",
    "# Сохраняем всю модель полностью\n",
    "torch.save(model, 'fer-2013/entire_model.pt')"
   ]
  }
 ],
 "metadata": {
  "kernelspec": {
   "display_name": "deeplearning",
   "language": "python",
   "name": "python3"
  },
  "language_info": {
   "codemirror_mode": {
    "name": "ipython",
    "version": 3
   },
   "file_extension": ".py",
   "mimetype": "text/x-python",
   "name": "python",
   "nbconvert_exporter": "python",
   "pygments_lexer": "ipython3",
   "version": "3.10.9"
  },
  "orig_nbformat": 4
 },
 "nbformat": 4,
 "nbformat_minor": 2
}
